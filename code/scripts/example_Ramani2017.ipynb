{
 "cells": [
  {
   "cell_type": "markdown",
   "id": "89ab050a",
   "metadata": {},
   "source": [
    "# Load functions"
   ]
  },
  {
   "cell_type": "code",
   "execution_count": null,
   "id": "0b5deaba",
   "metadata": {},
   "outputs": [],
   "source": [
    "source('/afs/cs.wisc.edu/p/keles/Collab_2022/VolumeA/Manybody/codes/functions/find_cliques.R')\n",
    "source('/afs/cs.wisc.edu/p/keles/Collab_2022/VolumeA/Manybody/codes/functions/model_fit_porder.R')\n",
    "\n",
    "\n",
    "\n"
   ]
  },
  {
   "cell_type": "markdown",
   "id": "f2f24c8d",
   "metadata": {},
   "source": [
    "# Generate cliques"
   ]
  },
  {
   "cell_type": "code",
   "execution_count": null,
   "id": "54e1571d",
   "metadata": {},
   "outputs": [],
   "source": [
    "\n",
    "find_cliques(data_dir='/afs/cs.wisc.edu/p/keles/Collab_2022/VolumeA/Manybody/data/Ramani2017/500kb/',\n",
    "             output_dir='/afs/cs.wisc.edu/p/keles/Collab_2022/VolumeA/Manybody/results/Ramani2017/500kb/',binsize = 500000)\n",
    "\n",
    "\n"
   ]
  },
  {
   "cell_type": "markdown",
   "id": "99d2641d",
   "metadata": {},
   "source": [
    "# Generate clique scores"
   ]
  },
  {
   "cell_type": "code",
   "execution_count": null,
   "id": "b64fb97e",
   "metadata": {},
   "outputs": [],
   "source": [
    "Z_value_generate(chrlevel.exist = TRUE,data_dir='/afs/cs.wisc.edu/p/keles/Collab_2022/VolumeA/Manybody/data/Ramani2017/500kb/',\n",
    "                 output_dir='/afs/cs.wisc.edu/p/keles/Collab_2022/VolumeA/Manybody/results/Ramani2017/500kb/',binsize = 500000,tau=0.01,\n",
    "Smin=3,    Smax=7,\n",
    "    celltypenum=4,\n",
    "    corenum=5,\n",
    "    core_chr=3,\n",
    "    chrnum=23,\n",
    "    sizefile='hg19.chrom.sizes',\n",
    "upper=NULL,automate_upper=TRUE)\n",
    "\n"
   ]
  }
 ],
 "metadata": {
  "kernelspec": {
   "display_name": "R",
   "language": "R",
   "name": "ir"
  },
  "language_info": {
   "codemirror_mode": "r",
   "file_extension": ".r",
   "mimetype": "text/x-r-source",
   "name": "R",
   "pygments_lexer": "r",
   "version": "4.2.2"
  }
 },
 "nbformat": 4,
 "nbformat_minor": 5
}
